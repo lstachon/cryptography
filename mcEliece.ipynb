{
 "cells": [
  {
   "cell_type": "markdown",
   "metadata": {
    "pycharm": {
     "name": "#%% md\n"
    }
   },
   "source": [
    "## Wstęp"
   ]
  },
  {
   "cell_type": "markdown",
   "metadata": {
    "pycharm": {
     "name": "#%% md\n"
    }
   },
   "source": [
    "Algorytm McEliece to jedna z pierwszych propozycji kryptosystemu klucza publicznego, który został wprowadzony w 1978 roku przez Roberta McEliece'a. Algorytm McEliece jest interesujący, ponieważ jest jednym z nielicznych systemów klucza publicznego, które opierają swoje bezpieczeństwo na twardości problemów z kodowania korekcji błędów, co czyni go odpornym na ataki przez komputery kwantowe."
   ]
  },
  {
   "cell_type": "markdown",
   "metadata": {
    "pycharm": {
     "name": "#%% md\n"
    }
   },
   "source": [
    "System kryptograficzny McEliece jest asymetrycznym algorytmem opartym na problemie kodów korekcyjnych. System ten może być wykorzystywany do przesyłania w bezpieczny sposób klucza symetrycznego."
   ]
  },
  {
   "cell_type": "markdown",
   "metadata": {
    "pycharm": {
     "name": "#%% md\n"
    }
   },
   "source": [
    "Posiada 3 podstawowe parametry\n",
    "n: długość kodu, określa liczbę bitów w zaszyfrowanym tekscie.\n",
    "k: ilość bitów w tekście jawnym\n",
    "t: zdolność do korekcji błędów kodu.\n",
    "m: definiuje rozmiar ciała skończonego"
   ]
  },
  {
   "cell_type": "markdown",
   "metadata": {
    "pycharm": {
     "name": "#%% md\n"
    }
   },
   "source": [
    "Przykłady wartości parametrów:\n",
    "\n",
    "oryginalne wartości:\n",
    "n = 1024, k = 524, t = 101, m = 50\n",
    "\n",
    "aktualnie zalecane wartości:\n",
    "n = 2048, k = 1751, t = 27, m = 27\n",
    "\n",
    "postkwantowe wartości:\n",
    "n = 6960, k = 5413, t = 119, m = 13\n",
    "n = 8192, k = 6528, t = 128, m = 13\n"
   ]
  },
  {
   "cell_type": "code",
   "execution_count": 58,
   "metadata": {
    "pycharm": {
     "name": "#%%\n"
    }
   },
   "outputs": [],
   "source": [
    "# m = 13\n",
    "# n = 6960\n",
    "# q = 8192\n",
    "# t = 119\n",
    "# k = 5413\n",
    "\n",
    "# m = 50\n",
    "# n = 1024\n",
    "# q = 1024\n",
    "# t = 50\n",
    "# k = 524\n",
    "\n",
    "# test params\n",
    "m = 4\n",
    "n = 16\n",
    "q = 16\n",
    "t = 2\n",
    "k = 8"
   ]
  },
  {
   "cell_type": "markdown",
   "metadata": {
    "pycharm": {
     "name": "#%% md\n"
    }
   },
   "source": [
    "Algorytm składa się z 3 głównym kroków:\n",
    "\n",
    "* generowanie kluczy\n",
    "* enkodowanie\n",
    "* dekodowanie"
   ]
  },
  {
   "cell_type": "markdown",
   "metadata": {
    "pycharm": {
     "name": "#%% md\n"
    }
   },
   "source": [
    "## Generowanie kluczy"
   ]
  },
  {
   "cell_type": "markdown",
   "metadata": {
    "pycharm": {
     "name": "#%% md\n"
    }
   },
   "source": [
    "Generowanie kluczy składa się z 7 kroków:\n",
    "1 Generuje losowy moniczny wielomian nierozkładalny g(x) o stopniu t w ciele galoisa.\n",
    "2 Wybiera losowy ciąg n różnych elementów ciała skończonego Fq.\n",
    "3 Oblicza macierz H ̃ o wymiarach t×n.\n",
    "4 Tworzy macierz Hˆ o wymiarach mt × n, zamieniając elementy macierzy H ̃ na odpowiednie kolumny bitów.\n",
    "5 Stosujemy eliminację Gaussa na macierzy Hˆ, aby przekształcić ją do postaci systematycznej (In−k | T).\n",
    "6 Generuje losowy ciąg bitów s o długości n.\n",
    "7 Tworzy klucz prywatny (s,Γ) i klucz publiczny T.\n"
   ]
  },
  {
   "cell_type": "code",
   "execution_count": 59,
   "metadata": {
    "pycharm": {
     "name": "#%%\n"
    }
   },
   "outputs": [
    {
     "name": "stdout",
     "output_type": "stream",
     "text": [
      "Requirement already satisfied: galois in /Library/Frameworks/Python.framework/Versions/3.11/lib/python3.11/site-packages (0.3.5)\r\n",
      "Requirement already satisfied: numpy<1.25,>=1.21.0 in /Library/Frameworks/Python.framework/Versions/3.11/lib/python3.11/site-packages (from galois) (1.23.5)\r\n",
      "Requirement already satisfied: numba<0.58,>=0.55 in /Library/Frameworks/Python.framework/Versions/3.11/lib/python3.11/site-packages (from galois) (0.57.0)\r\n",
      "Requirement already satisfied: typing-extensions>=4.0.0 in /Library/Frameworks/Python.framework/Versions/3.11/lib/python3.11/site-packages (from galois) (4.5.0)\r\n",
      "Requirement already satisfied: llvmlite<0.41,>=0.40.0dev0 in /Library/Frameworks/Python.framework/Versions/3.11/lib/python3.11/site-packages (from numba<0.58,>=0.55->galois) (0.40.1rc1)\r\n",
      "Note: you may need to restart the kernel to use updated packages.\n"
     ]
    }
   ],
   "source": [
    "%pip install galois"
   ]
  },
  {
   "cell_type": "code",
   "execution_count": 60,
   "metadata": {
    "pycharm": {
     "name": "#%%\n"
    }
   },
   "outputs": [
    {
     "name": "stdout",
     "output_type": "stream",
     "text": [
      "Requirement already satisfied: sympy in /Library/Frameworks/Python.framework/Versions/3.11/lib/python3.11/site-packages (1.12)\r\n",
      "Requirement already satisfied: mpmath>=0.19 in /Library/Frameworks/Python.framework/Versions/3.11/lib/python3.11/site-packages (from sympy) (1.3.0)\r\n",
      "Note: you may need to restart the kernel to use updated packages.\n"
     ]
    }
   ],
   "source": [
    "%pip install sympy"
   ]
  },
  {
   "cell_type": "code",
   "execution_count": 61,
   "metadata": {
    "pycharm": {
     "name": "#%%\n"
    }
   },
   "outputs": [],
   "source": [
    "import galois\n",
    "import numpy as np\n",
    "import random"
   ]
  },
  {
   "cell_type": "code",
   "execution_count": 62,
   "metadata": {
    "pycharm": {
     "name": "#%%\n"
    }
   },
   "outputs": [],
   "source": [
    "#1\n",
    "def generate_irreducable_poly(degree):\n",
    "    return galois.irreducible_poly(order=q, degree=degree, method=\"random\")"
   ]
  },
  {
   "cell_type": "code",
   "execution_count": 63,
   "metadata": {
    "pycharm": {
     "name": "#%%\n"
    }
   },
   "outputs": [
    {
     "data": {
      "text/plain": "Poly(x^2 + 8x + 15, GF(2^4))"
     },
     "execution_count": 63,
     "metadata": {},
     "output_type": "execute_result"
    }
   ],
   "source": [
    "poly = generate_irreducable_poly(t)\n",
    "poly"
   ]
  },
  {
   "cell_type": "code",
   "execution_count": 64,
   "metadata": {
    "pycharm": {
     "name": "#%%\n"
    }
   },
   "outputs": [],
   "source": [
    "#2\n",
    "def generate_distinct_elements(n, q):\n",
    "    return np.random.choice(np.arange(q), size=n, replace=False)"
   ]
  },
  {
   "cell_type": "code",
   "execution_count": 65,
   "metadata": {
    "pycharm": {
     "name": "#%%\n"
    }
   },
   "outputs": [
    {
     "data": {
      "text/plain": "array([12,  7,  8,  2,  6,  3, 15,  5, 14, 11,  4,  9, 13, 10,  1,  0])"
     },
     "execution_count": 65,
     "metadata": {},
     "output_type": "execute_result"
    }
   ],
   "source": [
    "random_el = generate_distinct_elements(n, q)\n",
    "random_el"
   ]
  },
  {
   "cell_type": "markdown",
   "metadata": {
    "pycharm": {
     "name": "#%% md\n"
    }
   },
   "source": [
    "Compute the t × n matrix H ̃ = h[i,j] over Fq, where h[i,j] = α[i−1]/g(α[j]) for i = 1,...,t and j = 1,...,n."
   ]
  },
  {
   "cell_type": "code",
   "execution_count": 66,
   "metadata": {
    "pycharm": {
     "name": "#%%\n"
    }
   },
   "outputs": [],
   "source": [
    "#3\n",
    "def calculate_matrix(alpha, g, t, n, m):\n",
    "    GF = galois.GF(2 ** m)\n",
    "    g = galois.Poly(g.coeffs, field=GF)\n",
    "\n",
    "    H = np.empty((t, n), dtype=object)\n",
    "\n",
    "    for i in range(1, t + 1):\n",
    "        for j in range(1, n + 1):\n",
    "            alpha_j_GF = GF(alpha[j - 1])\n",
    "            g_alpha_j = g(alpha_j_GF)\n",
    "            H[i - 1, j - 1] = alpha_j_GF ** (i - 1) / g_alpha_j\n",
    "\n",
    "    return H"
   ]
  },
  {
   "cell_type": "code",
   "execution_count": 67,
   "metadata": {
    "pycharm": {
     "name": "#%%\n"
    }
   },
   "outputs": [
    {
     "data": {
      "text/plain": "array([[GF(12, order=2^4), GF(13, order=2^4), GF(8, order=2^4),\n        GF(15, order=2^4), GF(4, order=2^4), GF(1, order=2^4),\n        GF(13, order=2^4), GF(14, order=2^4), GF(4, order=2^4),\n        GF(1, order=2^4), GF(12, order=2^4), GF(7, order=2^4),\n        GF(14, order=2^4), GF(15, order=2^4), GF(7, order=2^4),\n        GF(8, order=2^4)],\n       [GF(15, order=2^4), GF(5, order=2^4), GF(12, order=2^4),\n        GF(13, order=2^4), GF(11, order=2^4), GF(3, order=2^4),\n        GF(7, order=2^4), GF(3, order=2^4), GF(13, order=2^4),\n        GF(11, order=2^4), GF(5, order=2^4), GF(10, order=2^4),\n        GF(10, order=2^4), GF(12, order=2^4), GF(7, order=2^4),\n        GF(0, order=2^4)]], dtype=object)"
     },
     "execution_count": 67,
     "metadata": {},
     "output_type": "execute_result"
    }
   ],
   "source": [
    "matrix = calculate_matrix(random_el, poly, t, n, m)\n",
    "matrix"
   ]
  },
  {
   "cell_type": "code",
   "execution_count": 68,
   "metadata": {
    "pycharm": {
     "name": "#%%\n"
    }
   },
   "outputs": [],
   "source": [
    "#4\n",
    "def bits_in_GF2(element, t):\n",
    "    return [int(b) for b in format(element, f'0{t}b')]\n",
    "\n",
    "\n",
    "def transform_to_H_hat(H, m):\n",
    "    rows, cols = H.shape\n",
    "    H_hat = np.empty((m * rows, cols), dtype=int)\n",
    "\n",
    "    for i in range(rows):\n",
    "        for j in range(cols):\n",
    "            H_hat[m * i: m * (i + 1), j] = bits_in_GF2(H[i, j], m)\n",
    "\n",
    "    return H_hat"
   ]
  },
  {
   "cell_type": "code",
   "execution_count": 69,
   "metadata": {
    "pycharm": {
     "name": "#%%\n"
    }
   },
   "outputs": [
    {
     "data": {
      "text/plain": "array([[1, 1, 1, 1, 0, 0, 1, 1, 0, 0, 1, 0, 1, 1, 0, 1],\n       [1, 1, 0, 1, 1, 0, 1, 1, 1, 0, 1, 1, 1, 1, 1, 0],\n       [0, 0, 0, 1, 0, 0, 0, 1, 0, 0, 0, 1, 1, 1, 1, 0],\n       [0, 1, 0, 1, 0, 1, 1, 0, 0, 1, 0, 1, 0, 1, 1, 0],\n       [1, 0, 1, 1, 1, 0, 0, 0, 1, 1, 0, 1, 1, 1, 0, 0],\n       [1, 1, 1, 1, 0, 0, 1, 0, 1, 0, 1, 0, 0, 1, 1, 0],\n       [1, 0, 0, 0, 1, 1, 1, 1, 0, 1, 0, 1, 1, 0, 1, 0],\n       [1, 1, 0, 1, 1, 1, 1, 1, 1, 1, 1, 0, 0, 0, 1, 0]])"
     },
     "execution_count": 69,
     "metadata": {},
     "output_type": "execute_result"
    }
   ],
   "source": [
    "transformed = transform_to_H_hat(matrix, m)\n",
    "transformed"
   ]
  },
  {
   "cell_type": "code",
   "execution_count": 70,
   "metadata": {
    "pycharm": {
     "name": "#%%\n"
    }
   },
   "outputs": [],
   "source": [
    "#5\n",
    "def gauss_elimination(matrix, m, t):\n",
    "    gf2 = galois.GF(2)\n",
    "    matrix = gf2(matrix)\n",
    "\n",
    "    rows, cols = matrix.shape\n",
    "    for i in range(rows):\n",
    "        if matrix[i, i] == 0:\n",
    "            for j in range(i+1, rows):\n",
    "                if matrix[j, i] == 1:\n",
    "                    matrix[[i, j]] = matrix[[j, i]]\n",
    "                    break\n",
    "        for j in range(rows):\n",
    "            if i != j and matrix[j, i] == 1:\n",
    "                matrix[j] ^= matrix[i]\n",
    "\n",
    "    I = np.eye(m * t, dtype=int)\n",
    "    if np.array_equal(matrix[:m * t, :m * t], I):\n",
    "        I = matrix[:, :m * t]\n",
    "        T = matrix[:, m * t:]\n",
    "        return np.hstack((I, T)), T\n",
    "    else:\n",
    "        return None"
   ]
  },
  {
   "cell_type": "code",
   "execution_count": 71,
   "metadata": {
    "pycharm": {
     "name": "#%%\n"
    }
   },
   "outputs": [
    {
     "data": {
      "text/plain": "GF([[1, 0, 0, 0, 0, 0, 0, 0, 1, 1, 0, 1, 1, 0, 1, 0],\n    [0, 1, 0, 0, 0, 0, 0, 0, 0, 0, 1, 0, 1, 1, 0, 1],\n    [0, 0, 1, 0, 0, 0, 0, 0, 0, 1, 1, 1, 0, 1, 1, 0],\n    [0, 0, 0, 1, 0, 0, 0, 0, 1, 0, 0, 1, 0, 1, 0, 1],\n    [0, 0, 0, 0, 1, 0, 0, 0, 1, 1, 1, 0, 0, 1, 0, 1],\n    [0, 0, 0, 0, 0, 1, 0, 0, 0, 1, 0, 1, 1, 1, 0, 0],\n    [0, 0, 0, 0, 0, 0, 1, 0, 1, 0, 1, 1, 0, 0, 1, 0],\n    [0, 0, 0, 0, 0, 0, 0, 1, 1, 0, 0, 0, 1, 0, 1, 1]], order=2)"
     },
     "execution_count": 71,
     "metadata": {},
     "output_type": "execute_result"
    }
   ],
   "source": [
    "gauss = gauss_elimination(transformed, m, t)\n",
    "gauss[0]"
   ]
  },
  {
   "cell_type": "code",
   "execution_count": 72,
   "metadata": {
    "pycharm": {
     "name": "#%%\n"
    }
   },
   "outputs": [
    {
     "data": {
      "text/plain": "GF([[1, 1, 0, 1, 1, 0, 1, 0],\n    [0, 0, 1, 0, 1, 1, 0, 1],\n    [0, 1, 1, 1, 0, 1, 1, 0],\n    [1, 0, 0, 1, 0, 1, 0, 1],\n    [1, 1, 1, 0, 0, 1, 0, 1],\n    [0, 1, 0, 1, 1, 1, 0, 0],\n    [1, 0, 1, 1, 0, 0, 1, 0],\n    [1, 0, 0, 0, 1, 0, 1, 1]], order=2)"
     },
     "execution_count": 72,
     "metadata": {},
     "output_type": "execute_result"
    }
   ],
   "source": [
    "gauss[1]"
   ]
  },
  {
   "cell_type": "code",
   "execution_count": 73,
   "metadata": {
    "pycharm": {
     "name": "#%%\n"
    }
   },
   "outputs": [],
   "source": [
    "#6\n",
    "def generate_random_string(n):\n",
    "    s = \"{0:b}\".format(random.getrandbits(n))\n",
    "    s = s.zfill(n)\n",
    "    return s"
   ]
  },
  {
   "cell_type": "code",
   "execution_count": 74,
   "metadata": {
    "pycharm": {
     "name": "#%%\n"
    }
   },
   "outputs": [
    {
     "data": {
      "text/plain": "'0111001010000110'"
     },
     "execution_count": 74,
     "metadata": {},
     "output_type": "execute_result"
    }
   ],
   "source": [
    "generate_random_string(n)"
   ]
  },
  {
   "cell_type": "code",
   "execution_count": 75,
   "metadata": {
    "pycharm": {
     "name": "#%%\n"
    }
   },
   "outputs": [],
   "source": [
    "def get_keys():\n",
    "    counter = 0\n",
    "    while True:\n",
    "        counter += 1\n",
    "        print(f\"Iteration {counter}\")\n",
    "        poly = generate_irreducable_poly(t)\n",
    "        random_seq = generate_distinct_elements(n, q)\n",
    "        matrix = calculate_matrix(random_seq, poly, t, n, m)\n",
    "        H_hat = transform_to_H_hat(matrix, m)\n",
    "\n",
    "        T = gauss_elimination(H_hat, m, t)\n",
    "        if T is not None:\n",
    "            print(\"Gaussian elimination successful!\")\n",
    "            print(T)\n",
    "            s = generate_random_string(n)\n",
    "\n",
    "            #7\n",
    "            Γ = (s, (poly, random_seq))\n",
    "            print(f\"Private key:( \\n{s}, \\n{Γ})\")\n",
    "            print(f\"Public key: \\n{T}\")\n",
    "            return Γ, T\n",
    "        else:\n",
    "            print(\"Gaussian elimination failed, retrying...\")"
   ]
  },
  {
   "cell_type": "code",
   "execution_count": 76,
   "metadata": {
    "pycharm": {
     "name": "#%%\n"
    }
   },
   "outputs": [
    {
     "name": "stdout",
     "output_type": "stream",
     "text": [
      "Iteration 1\n",
      "Gaussian elimination successful!\n",
      "(GF([[1, 0, 0, 0, 0, 0, 0, 0, 1, 0, 1, 0, 1, 0, 0, 1],\n",
      "    [0, 1, 0, 0, 0, 0, 0, 0, 1, 1, 0, 0, 0, 0, 1, 1],\n",
      "    [0, 0, 1, 0, 0, 0, 0, 0, 0, 1, 1, 1, 1, 0, 0, 1],\n",
      "    [0, 0, 0, 1, 0, 0, 0, 0, 0, 1, 0, 0, 1, 1, 0, 1],\n",
      "    [0, 0, 0, 0, 1, 0, 0, 0, 1, 1, 1, 1, 1, 1, 1, 0],\n",
      "    [0, 0, 0, 0, 0, 1, 0, 0, 1, 1, 0, 1, 0, 1, 0, 1],\n",
      "    [0, 0, 0, 0, 0, 0, 1, 0, 1, 0, 0, 1, 1, 1, 1, 1],\n",
      "    [0, 0, 0, 0, 0, 0, 0, 1, 0, 1, 1, 1, 0, 0, 1, 0]], order=2), GF([[1, 0, 1, 0, 1, 0, 0, 1],\n",
      "    [1, 1, 0, 0, 0, 0, 1, 1],\n",
      "    [0, 1, 1, 1, 1, 0, 0, 1],\n",
      "    [0, 1, 0, 0, 1, 1, 0, 1],\n",
      "    [1, 1, 1, 1, 1, 1, 1, 0],\n",
      "    [1, 1, 0, 1, 0, 1, 0, 1],\n",
      "    [1, 0, 0, 1, 1, 1, 1, 1],\n",
      "    [0, 1, 1, 1, 0, 0, 1, 0]], order=2))\n",
      "Private key:( \n",
      "0001111000011000, \n",
      "('0001111000011000', (Poly(x^2 + 7x + 9, GF(2^4)), array([13, 11,  6,  0, 14,  9, 15, 10,  4,  2,  3,  5,  8, 12,  1,  7]))))\n",
      "Public key: \n",
      "(GF([[1, 0, 0, 0, 0, 0, 0, 0, 1, 0, 1, 0, 1, 0, 0, 1],\n",
      "    [0, 1, 0, 0, 0, 0, 0, 0, 1, 1, 0, 0, 0, 0, 1, 1],\n",
      "    [0, 0, 1, 0, 0, 0, 0, 0, 0, 1, 1, 1, 1, 0, 0, 1],\n",
      "    [0, 0, 0, 1, 0, 0, 0, 0, 0, 1, 0, 0, 1, 1, 0, 1],\n",
      "    [0, 0, 0, 0, 1, 0, 0, 0, 1, 1, 1, 1, 1, 1, 1, 0],\n",
      "    [0, 0, 0, 0, 0, 1, 0, 0, 1, 1, 0, 1, 0, 1, 0, 1],\n",
      "    [0, 0, 0, 0, 0, 0, 1, 0, 1, 0, 0, 1, 1, 1, 1, 1],\n",
      "    [0, 0, 0, 0, 0, 0, 0, 1, 0, 1, 1, 1, 0, 0, 1, 0]], order=2), GF([[1, 0, 1, 0, 1, 0, 0, 1],\n",
      "    [1, 1, 0, 0, 0, 0, 1, 1],\n",
      "    [0, 1, 1, 1, 1, 0, 0, 1],\n",
      "    [0, 1, 0, 0, 1, 1, 0, 1],\n",
      "    [1, 1, 1, 1, 1, 1, 1, 0],\n",
      "    [1, 1, 0, 1, 0, 1, 0, 1],\n",
      "    [1, 0, 0, 1, 1, 1, 1, 1],\n",
      "    [0, 1, 1, 1, 0, 0, 1, 0]], order=2))\n"
     ]
    }
   ],
   "source": [
    "keys = get_keys()"
   ]
  },
  {
   "cell_type": "markdown",
   "metadata": {
    "pycharm": {
     "name": "#%% md\n"
    }
   },
   "source": [
    "## Enkodowanie"
   ]
  },
  {
   "cell_type": "markdown",
   "metadata": {
    "pycharm": {
     "name": "#%% md\n"
    }
   },
   "source": [
    "1 Tworzymy wektor błędów e, ma on się składać z dokładnie t wystąpień 1, i reszty 0\n",
    "2 Posiadając macierz T (klucz publiczny) odtwarzamy macierz H poprzez dodanie do niej macierzy jednostowej\n",
    "3 mnożymy macierz H*e"
   ]
  },
  {
   "cell_type": "code",
   "execution_count": 77,
   "metadata": {
    "pycharm": {
     "name": "#%%\n"
    }
   },
   "outputs": [],
   "source": [
    "def createH(T, m, t):\n",
    "    I = np.eye(m * t, dtype=int)\n",
    "    return np.concatenate((I, T), axis=1)"
   ]
  },
  {
   "cell_type": "code",
   "execution_count": 78,
   "metadata": {
    "pycharm": {
     "name": "#%%\n"
    }
   },
   "outputs": [
    {
     "data": {
      "text/plain": "GF([[1, 0, 1, 0, 1, 0, 0, 1],\n    [1, 1, 0, 0, 0, 0, 1, 1],\n    [0, 1, 1, 1, 1, 0, 0, 1],\n    [0, 1, 0, 0, 1, 1, 0, 1],\n    [1, 1, 1, 1, 1, 1, 1, 0],\n    [1, 1, 0, 1, 0, 1, 0, 1],\n    [1, 0, 0, 1, 1, 1, 1, 1],\n    [0, 1, 1, 1, 0, 0, 1, 0]], order=2)"
     },
     "execution_count": 78,
     "metadata": {},
     "output_type": "execute_result"
    }
   ],
   "source": [
    "keys[1][1]"
   ]
  },
  {
   "cell_type": "code",
   "execution_count": 79,
   "metadata": {
    "pycharm": {
     "name": "#%%\n"
    }
   },
   "outputs": [
    {
     "data": {
      "text/plain": "GF([[1, 0, 0, 0, 0, 0, 0, 0, 1, 0, 1, 0, 1, 0, 0, 1],\n    [0, 1, 0, 0, 0, 0, 0, 0, 1, 1, 0, 0, 0, 0, 1, 1],\n    [0, 0, 1, 0, 0, 0, 0, 0, 0, 1, 1, 1, 1, 0, 0, 1],\n    [0, 0, 0, 1, 0, 0, 0, 0, 0, 1, 0, 0, 1, 1, 0, 1],\n    [0, 0, 0, 0, 1, 0, 0, 0, 1, 1, 1, 1, 1, 1, 1, 0],\n    [0, 0, 0, 0, 0, 1, 0, 0, 1, 1, 0, 1, 0, 1, 0, 1],\n    [0, 0, 0, 0, 0, 0, 1, 0, 1, 0, 0, 1, 1, 1, 1, 1],\n    [0, 0, 0, 0, 0, 0, 0, 1, 0, 1, 1, 1, 0, 0, 1, 0]], order=2)"
     },
     "execution_count": 79,
     "metadata": {},
     "output_type": "execute_result"
    }
   ],
   "source": [
    "H = createH(keys[1][1], m, t)\n",
    "H"
   ]
  },
  {
   "cell_type": "code",
   "execution_count": 80,
   "metadata": {
    "pycharm": {
     "name": "#%%\n"
    }
   },
   "outputs": [],
   "source": [
    "global k, n, t\n",
    "\n",
    "gf2 = galois.GF(2)\n",
    "def encrypt(message, public_key):\n",
    "    if len(message) != k:\n",
    "        print(f\"McEliece.encrypt: The message must be of length {k}\")\n",
    "        return\n",
    "    error = np.zeros(n, dtype=int)\n",
    "    error[0:t] = 1\n",
    "    np.random.shuffle(error)\n",
    "\n",
    "    ciphertext = gf2(message).dot(gf2(public_key)) + gf2(error)\n",
    "    return ciphertext, error"
   ]
  },
  {
   "cell_type": "code",
   "execution_count": 81,
   "metadata": {
    "pycharm": {
     "name": "#%%\n"
    }
   },
   "outputs": [
    {
     "data": {
      "text/plain": "(GF([1, 0, 1, 0, 1, 0, 1, 1, 1, 0, 1, 1, 0, 0, 0, 0], order=2),\n array([0, 0, 0, 0, 0, 0, 0, 1, 0, 0, 0, 0, 0, 0, 0, 1]))"
     },
     "execution_count": 81,
     "metadata": {},
     "output_type": "execute_result"
    }
   ],
   "source": [
    "message = [1,0,1,0,1,0,1,0]\n",
    "encrypted = encrypt(message, H)\n",
    "encrypted"
   ]
  },
  {
   "cell_type": "markdown",
   "metadata": {
    "pycharm": {
     "name": "#%% md\n"
    }
   },
   "source": [
    "## Dekodowanie"
   ]
  },
  {
   "cell_type": "markdown",
   "metadata": {
    "pycharm": {
     "name": "#%% md\n"
    }
   },
   "source": [
    "1. Rozszerzanie C: Na początku, rozszerzamy wektor C przez dodanie do niego k zer, gdzie k to długość klucza prywatnego. Nowy wektor jest oznaczony jako v\n",
    "2. Wyszukiwanie kodu: Następnie szukamy unikalnego kodu w kodzie Goppa zdefiniowanym przez Γ, który jest w odległości ≤ t od v. Jeżeli nie ma takiego kodu, to zwracamy failure (⊥)\n",
    "3. Ustawianie e: Po znalezieniu kodu c, tworzymy nowy wektor e przez dodanie (operacja XOR) v i c\n",
    "4. Sprawdzanie warunków: Sprawdzamy dwa warunki:\n",
    "    - Czy waga (liczba niezerowych bitów) e wynosi t\n",
    "    - Czy C0 równa się He, gdzie H jest macierzą generującą kodu, tworzoną na podstawie klucza prywatnego"
   ]
  },
  {
   "cell_type": "code",
   "execution_count": null,
   "outputs": [],
   "source": [
    "# TODO\n",
    "def get_unique_goppa_code(v, alphas, t, poly):\n",
    "    return"
   ],
   "metadata": {
    "collapsed": false,
    "pycharm": {
     "name": "#%%\n"
    }
   }
  },
  {
   "cell_type": "code",
   "execution_count": 83,
   "metadata": {
    "pycharm": {
     "name": "#%%\n"
    }
   },
   "outputs": [],
   "source": [
    "def decode(C, s, poly, alphas, t, n, k, public_key):\n",
    "    v = np.append(C, [0]*k)\n",
    "\n",
    "    c = get_unique_goppa_code(v, alphas, t, poly)\n",
    "    if c is None:\n",
    "        return \"⊥\"\n",
    "\n",
    "    e = np.bitwise_xor(v, c)\n",
    "    if np.count_nonzero(e) == t and np.array_equal(C, np.dot(public_key, e) % 2):\n",
    "        return e\n",
    "    else:\n",
    "        return \"⊥\""
   ]
  },
  {
   "cell_type": "code",
   "execution_count": null,
   "metadata": {
    "pycharm": {
     "name": "#%%\n"
    }
   },
   "outputs": [],
   "source": []
  }
 ],
 "metadata": {
  "kernelspec": {
   "display_name": "Python 3 (ipykernel)",
   "language": "python",
   "name": "python3"
  },
  "language_info": {
   "codemirror_mode": {
    "name": "ipython",
    "version": 3
   },
   "file_extension": ".py",
   "mimetype": "text/x-python",
   "name": "python",
   "nbconvert_exporter": "python",
   "pygments_lexer": "ipython3",
   "version": "3.11.2"
  }
 },
 "nbformat": 4,
 "nbformat_minor": 1
}